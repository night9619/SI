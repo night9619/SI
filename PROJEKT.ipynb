{
 "cells": [
  {
   "cell_type": "code",
   "execution_count": 1,
   "metadata": {},
   "outputs": [],
   "source": [
    "from math import log2\n",
    "\n",
    "#wczytanie danych\n",
    "with open('cw 1/pogoda.txt', 'r') as f:\n",
    "    element = [line.strip() for line in f]\n",
    "\n",
    "lista = [el.split(',') for el in element]"
   ]
  },
  {
   "cell_type": "code",
   "execution_count": 2,
   "metadata": {},
   "outputs": [
    {
     "data": {
      "text/plain": [
       "[['sunny', '85', '85', 'false', \"Don'tPlay\"],\n",
       " ['sunny', '80', '90', 'true', \"Don'tPlay\"],\n",
       " ['overcast', '83', '78', 'false', 'Play'],\n",
       " ['rain', '70', '96', 'false', 'Play'],\n",
       " ['rain', '68', '80', 'false', 'Play'],\n",
       " ['rain', '65', '70', 'true', \"Don'tPlay\"],\n",
       " ['overcast', '64', '65', 'true', 'Play'],\n",
       " ['sunny', '72', '95', 'false', \"Don'tPlay\"],\n",
       " ['sunny', '69', '70', 'false', 'Play'],\n",
       " ['rain', '75', '80', 'false', 'Play'],\n",
       " ['sunny', '75', '70', 'true', 'Play'],\n",
       " ['overcast', '72', '90', 'true', 'Play'],\n",
       " ['overcast', '81', '75', 'false', 'Play'],\n",
       " ['rain', '71', '80', 'true', \"Don'tPlay\"]]"
      ]
     },
     "execution_count": 2,
     "metadata": {},
     "output_type": "execute_result"
    }
   ],
   "source": [
    "lista"
   ]
  },
  {
   "cell_type": "code",
   "execution_count": 3,
   "metadata": {},
   "outputs": [
    {
     "data": {
      "text/plain": [
       "4"
      ]
     },
     "execution_count": 3,
     "metadata": {},
     "output_type": "execute_result"
    }
   ],
   "source": [
    "liczbaAtrybutów = len(lista[0])-1\n",
    "liczbaAtrybutów"
   ]
  },
  {
   "cell_type": "code",
   "execution_count": 4,
   "metadata": {},
   "outputs": [
    {
     "data": {
      "text/plain": [
       "['A1', 'A2', 'A3', 'A4']"
      ]
     },
     "execution_count": 4,
     "metadata": {},
     "output_type": "execute_result"
    }
   ],
   "source": [
    "#lista atrybutów (można ew jak wczytac z pliku)\n",
    "labels = [\"A\"+str(nr+1) for nr in range(len(lista[0])-1)]\n",
    "labels"
   ]
  },
  {
   "cell_type": "code",
   "execution_count": 5,
   "metadata": {},
   "outputs": [
    {
     "data": {
      "text/plain": [
       "14"
      ]
     },
     "execution_count": 5,
     "metadata": {},
     "output_type": "execute_result"
    }
   ],
   "source": [
    "liczbaWierszy = len(lista)\n",
    "liczbaWierszy"
   ]
  },
  {
   "cell_type": "code",
   "execution_count": 6,
   "metadata": {},
   "outputs": [
    {
     "data": {
      "text/plain": [
       "[\"Don'tPlay\",\n",
       " \"Don'tPlay\",\n",
       " 'Play',\n",
       " 'Play',\n",
       " 'Play',\n",
       " \"Don'tPlay\",\n",
       " 'Play',\n",
       " \"Don'tPlay\",\n",
       " 'Play',\n",
       " 'Play',\n",
       " 'Play',\n",
       " 'Play',\n",
       " 'Play',\n",
       " \"Don'tPlay\"]"
      ]
     },
     "execution_count": 6,
     "metadata": {},
     "output_type": "execute_result"
    }
   ],
   "source": [
    "#ostatnia kolumna - decyzje\n",
    "decyzje = [wiersz[liczbaAtrybutów] for wiersz in lista]\n",
    "decyzje"
   ]
  },
  {
   "cell_type": "code",
   "execution_count": 7,
   "metadata": {},
   "outputs": [],
   "source": [
    "def decyzjeKolumna(dane):\n",
    "    return [kol[-1] for kol in dane]"
   ]
  },
  {
   "cell_type": "code",
   "execution_count": 8,
   "metadata": {},
   "outputs": [
    {
     "data": {
      "text/plain": [
       "[\"Don'tPlay\",\n",
       " \"Don'tPlay\",\n",
       " 'Play',\n",
       " 'Play',\n",
       " 'Play',\n",
       " \"Don'tPlay\",\n",
       " 'Play',\n",
       " \"Don'tPlay\",\n",
       " 'Play',\n",
       " 'Play',\n",
       " 'Play',\n",
       " 'Play',\n",
       " 'Play',\n",
       " \"Don'tPlay\"]"
      ]
     },
     "execution_count": 8,
     "metadata": {},
     "output_type": "execute_result"
    }
   ],
   "source": [
    "decyzjeKolumna(lista)"
   ]
  },
  {
   "cell_type": "code",
   "execution_count": 9,
   "metadata": {},
   "outputs": [],
   "source": [
    "#dla każdej unikalnej wartosci w kolumnie zliczam wystąpienia\n",
    "def licznikUnikalnychWartosci(nrKolumny,dane):\n",
    "    unikalne = {}\n",
    "    for wiersz in dane:\n",
    "        wartosc = wiersz[nrKolumny]\n",
    "        if wartosc not in unikalne:\n",
    "            unikalne[wartosc] = 0\n",
    "        unikalne[wartosc] +=1\n",
    "    \n",
    "    return unikalne"
   ]
  },
  {
   "cell_type": "code",
   "execution_count": 10,
   "metadata": {},
   "outputs": [
    {
     "name": "stdout",
     "output_type": "stream",
     "text": [
      "{'sunny': 5, 'overcast': 4, 'rain': 5}\n",
      "{'85': 1, '80': 1, '83': 1, '70': 1, '68': 1, '65': 1, '64': 1, '72': 2, '69': 1, '75': 2, '81': 1, '71': 1}\n",
      "{'85': 1, '90': 2, '78': 1, '96': 1, '80': 3, '70': 3, '65': 1, '95': 1, '75': 1}\n",
      "{'false': 8, 'true': 6}\n"
     ]
    }
   ],
   "source": [
    "for nrK in range(liczbaAtrybutów):\n",
    "    print(licznikUnikalnychWartosci(nrK,lista))"
   ]
  },
  {
   "cell_type": "code",
   "execution_count": 11,
   "metadata": {},
   "outputs": [],
   "source": [
    "#ile jest unikalnych wartosci w kolumnie\n",
    "def ileWartWKolumnie(nrKolumny):\n",
    "    klucze = list(licznikUnikalnychWartosci(nrKolumny,lista).keys())\n",
    "    licznik = len(klucze)\n",
    "    \n",
    "    return licznik"
   ]
  },
  {
   "cell_type": "code",
   "execution_count": 12,
   "metadata": {},
   "outputs": [
    {
     "name": "stdout",
     "output_type": "stream",
     "text": [
      "{0: 3}\n",
      "{1: 12}\n",
      "{2: 9}\n",
      "{3: 2}\n"
     ]
    }
   ],
   "source": [
    "for nrK in range(liczbaAtrybutów):\n",
    "    s1 ={}\n",
    "    s1[nrK] = ileWartWKolumnie(nrK)\n",
    "    print(s1)"
   ]
  },
  {
   "cell_type": "code",
   "execution_count": 13,
   "metadata": {},
   "outputs": [],
   "source": [
    "#jakie sa unikalne wartosci w kolumnie\n",
    "def unikalneWartosciWKolumnie(nrKolumny,dane):\n",
    "    kolumna = [wiersz[nrKolumny] for wiersz in dane]\n",
    "    unikalne = set([wartosc for wartosc in kolumna])\n",
    "    return list(unikalne)"
   ]
  },
  {
   "cell_type": "code",
   "execution_count": 14,
   "metadata": {},
   "outputs": [
    {
     "name": "stdout",
     "output_type": "stream",
     "text": [
      "['overcast', 'rain', 'sunny']\n",
      "['81', '72', '64', '68', '75', '83', '70', '69', '80', '71', '85', '65']\n",
      "['96', '75', '70', '80', '78', '95', '90', '85', '65']\n",
      "['true', 'false']\n"
     ]
    }
   ],
   "source": [
    "for nrK in range(liczbaAtrybutów):\n",
    "    print(unikalneWartosciWKolumnie(nrK,lista))"
   ]
  },
  {
   "cell_type": "code",
   "execution_count": 15,
   "metadata": {},
   "outputs": [],
   "source": [
    "# tworzy słownik z unikalnymi wartosciami i padajacymi po nich decyzjami\n",
    "def wartosciDecyzji(k):   # k to kolumna\n",
    "    dlaKolumny = {}\n",
    "    for ipk,pk in enumerate(k):\n",
    "        tab = [decyzje[iel] for iel,el in enumerate(k) if el==pk ] #jakie sa decyzje dla wartosci\n",
    "        #print(tab)\n",
    "        dlaKolumny[pk] = {wart : tab.count(wart) for wart in decyzje}\n",
    "    return dlaKolumny"
   ]
  },
  {
   "cell_type": "code",
   "execution_count": 16,
   "metadata": {},
   "outputs": [
    {
     "data": {
      "text/plain": [
       "['85',\n",
       " '80',\n",
       " '83',\n",
       " '70',\n",
       " '68',\n",
       " '65',\n",
       " '64',\n",
       " '72',\n",
       " '69',\n",
       " '75',\n",
       " '75',\n",
       " '72',\n",
       " '81',\n",
       " '71']"
      ]
     },
     "execution_count": 16,
     "metadata": {},
     "output_type": "execute_result"
    }
   ],
   "source": [
    "k = [wiersz[1] for wiersz in lista]\n",
    "k"
   ]
  },
  {
   "cell_type": "code",
   "execution_count": 17,
   "metadata": {},
   "outputs": [
    {
     "data": {
      "text/plain": [
       "{'85': {\"Don'tPlay\": 1, 'Play': 0},\n",
       " '80': {\"Don'tPlay\": 1, 'Play': 0},\n",
       " '83': {\"Don'tPlay\": 0, 'Play': 1},\n",
       " '70': {\"Don'tPlay\": 0, 'Play': 1},\n",
       " '68': {\"Don'tPlay\": 0, 'Play': 1},\n",
       " '65': {\"Don'tPlay\": 1, 'Play': 0},\n",
       " '64': {\"Don'tPlay\": 0, 'Play': 1},\n",
       " '72': {\"Don'tPlay\": 1, 'Play': 1},\n",
       " '69': {\"Don'tPlay\": 0, 'Play': 1},\n",
       " '75': {\"Don'tPlay\": 0, 'Play': 2},\n",
       " '81': {\"Don'tPlay\": 0, 'Play': 1},\n",
       " '71': {\"Don'tPlay\": 1, 'Play': 0}}"
      ]
     },
     "execution_count": 17,
     "metadata": {},
     "output_type": "execute_result"
    }
   ],
   "source": [
    "wartosciDecyzji(k)"
   ]
  },
  {
   "cell_type": "code",
   "execution_count": 18,
   "metadata": {},
   "outputs": [],
   "source": [
    "Info = {}\n",
    "Gain = {}\n",
    "Split = {}\n",
    "GainRatio = {}\n",
    "\n",
    "maxA=0\n",
    "T= liczbaWierszy"
   ]
  },
  {
   "cell_type": "markdown",
   "metadata": {},
   "source": [
    "Entropia"
   ]
  },
  {
   "cell_type": "code",
   "execution_count": 19,
   "metadata": {},
   "outputs": [],
   "source": [
    "#entropia\n",
    "def I(P):\n",
    "    wynik = (-1)*sum([p*log2(p) for p in P if p!=0])\n",
    "    return wynik"
   ]
  },
  {
   "cell_type": "code",
   "execution_count": 20,
   "metadata": {},
   "outputs": [
    {
     "name": "stdout",
     "output_type": "stream",
     "text": [
      "{\"Don'tPlay\": 5, 'Play': 9}\n",
      "[0.35714285714285715, 0.6428571428571429]\n"
     ]
    }
   ],
   "source": [
    "podsumowanieDecyzji = licznikUnikalnychWartosci(liczbaAtrybutów,lista) # unikalne decyzje+licznik\n",
    "print(podsumowanieDecyzji)\n",
    "zbior = [podsumowanieDecyzji[a]/len(decyzje) for a in podsumowanieDecyzji] #prawdopodobieństo dla całego zbioru\n",
    "print(zbior)"
   ]
  },
  {
   "cell_type": "code",
   "execution_count": 21,
   "metadata": {},
   "outputs": [],
   "source": [
    "def Informacje(numer):\n",
    "    info=0\n",
    "    split=0\n",
    "    print(\"\\n\")\n",
    "    print(labels[numer]) #atrybut\n",
    "    print(licznikUnikalnychWartosci(numer,lista)) \n",
    "    print(liczbaWierszy)\n",
    "   \n",
    "    #for w in range(len(licznikUnikalnychWartosci(numer))):\n",
    "    k = [wiersz[numer] for wiersz in lista] #cala kolumna\n",
    "    for wart in list(licznikUnikalnychWartosci(numer,lista).keys()):\n",
    "        licznikDecyzji = wartosciDecyzji(k)        \n",
    "        print(\"\\n\")\n",
    "        print(\"\\t\",'Decyzje:')\n",
    "        print(\"\\t\",wart)\n",
    "        print(\"\\t\",licznikDecyzji[wart]) \n",
    "        liczebnosc = [licznikDecyzji[wart][a] for a in licznikDecyzji[wart]]\n",
    "        Ti = sum(liczebnosc)\n",
    "        PP = [licznikDecyzji[wart][a]/Ti if Ti!=0 else \"0\" for a in licznikDecyzji[wart]]\n",
    "        print(\"\\t\",PP)\n",
    "        print(\"\\t\",I(PP),'*', Ti/T)\n",
    "        \n",
    "        info += I(PP) * (Ti/T)\n",
    "        split += ((-1)*(Ti/T)* log2(Ti/T))\n",
    "\n",
    "        print(\"\\t\", info)\n",
    "        \n",
    "    gain = I(zbior)-info\n",
    "    if split > 0:\n",
    "        gainRatio = gain/split\n",
    "    \n",
    "    Info[numer] = info\n",
    "    Gain[numer] = gain\n",
    "    Split[numer] = split\n",
    "    GainRatio[numer] = gainRatio"
   ]
  },
  {
   "cell_type": "code",
   "execution_count": 22,
   "metadata": {},
   "outputs": [
    {
     "name": "stdout",
     "output_type": "stream",
     "text": [
      "=====\n",
      "{\"Don'tPlay\": 5, 'Play': 9}\n",
      "[0.35714285714285715, 0.6428571428571429]\n",
      "Entropia: 0.9402859586706311\n",
      "=====\n",
      "\n",
      "\n",
      "A1\n",
      "{'sunny': 5, 'overcast': 4, 'rain': 5}\n",
      "14\n",
      "\n",
      "\n",
      "\t Decyzje:\n",
      "\t sunny\n",
      "\t {\"Don'tPlay\": 3, 'Play': 2}\n",
      "\t [0.6, 0.4]\n",
      "\t 0.9709505944546686 * 0.35714285714285715\n",
      "\t 0.3467680694480959\n",
      "\n",
      "\n",
      "\t Decyzje:\n",
      "\t overcast\n",
      "\t {\"Don'tPlay\": 0, 'Play': 4}\n",
      "\t [0.0, 1.0]\n",
      "\t -0.0 * 0.2857142857142857\n",
      "\t 0.3467680694480959\n",
      "\n",
      "\n",
      "\t Decyzje:\n",
      "\t rain\n",
      "\t {\"Don'tPlay\": 2, 'Play': 3}\n",
      "\t [0.4, 0.6]\n",
      "\t 0.9709505944546686 * 0.35714285714285715\n",
      "\t 0.6935361388961918\n",
      "\n",
      "\n",
      "A2\n",
      "{'85': 1, '80': 1, '83': 1, '70': 1, '68': 1, '65': 1, '64': 1, '72': 2, '69': 1, '75': 2, '81': 1, '71': 1}\n",
      "14\n",
      "\n",
      "\n",
      "\t Decyzje:\n",
      "\t 85\n",
      "\t {\"Don'tPlay\": 1, 'Play': 0}\n",
      "\t [1.0, 0.0]\n",
      "\t -0.0 * 0.07142857142857142\n",
      "\t 0.0\n",
      "\n",
      "\n",
      "\t Decyzje:\n",
      "\t 80\n",
      "\t {\"Don'tPlay\": 1, 'Play': 0}\n",
      "\t [1.0, 0.0]\n",
      "\t -0.0 * 0.07142857142857142\n",
      "\t 0.0\n",
      "\n",
      "\n",
      "\t Decyzje:\n",
      "\t 83\n",
      "\t {\"Don'tPlay\": 0, 'Play': 1}\n",
      "\t [0.0, 1.0]\n",
      "\t -0.0 * 0.07142857142857142\n",
      "\t 0.0\n",
      "\n",
      "\n",
      "\t Decyzje:\n",
      "\t 70\n",
      "\t {\"Don'tPlay\": 0, 'Play': 1}\n",
      "\t [0.0, 1.0]\n",
      "\t -0.0 * 0.07142857142857142\n",
      "\t 0.0\n",
      "\n",
      "\n",
      "\t Decyzje:\n",
      "\t 68\n",
      "\t {\"Don'tPlay\": 0, 'Play': 1}\n",
      "\t [0.0, 1.0]\n",
      "\t -0.0 * 0.07142857142857142\n",
      "\t 0.0\n",
      "\n",
      "\n",
      "\t Decyzje:\n",
      "\t 65\n",
      "\t {\"Don'tPlay\": 1, 'Play': 0}\n",
      "\t [1.0, 0.0]\n",
      "\t -0.0 * 0.07142857142857142\n",
      "\t 0.0\n",
      "\n",
      "\n",
      "\t Decyzje:\n",
      "\t 64\n",
      "\t {\"Don'tPlay\": 0, 'Play': 1}\n",
      "\t [0.0, 1.0]\n",
      "\t -0.0 * 0.07142857142857142\n",
      "\t 0.0\n",
      "\n",
      "\n",
      "\t Decyzje:\n",
      "\t 72\n",
      "\t {\"Don'tPlay\": 1, 'Play': 1}\n",
      "\t [0.5, 0.5]\n",
      "\t 1.0 * 0.14285714285714285\n",
      "\t 0.14285714285714285\n",
      "\n",
      "\n",
      "\t Decyzje:\n",
      "\t 69\n",
      "\t {\"Don'tPlay\": 0, 'Play': 1}\n",
      "\t [0.0, 1.0]\n",
      "\t -0.0 * 0.07142857142857142\n",
      "\t 0.14285714285714285\n",
      "\n",
      "\n",
      "\t Decyzje:\n",
      "\t 75\n",
      "\t {\"Don'tPlay\": 0, 'Play': 2}\n",
      "\t [0.0, 1.0]\n",
      "\t -0.0 * 0.14285714285714285\n",
      "\t 0.14285714285714285\n",
      "\n",
      "\n",
      "\t Decyzje:\n",
      "\t 81\n",
      "\t {\"Don'tPlay\": 0, 'Play': 1}\n",
      "\t [0.0, 1.0]\n",
      "\t -0.0 * 0.07142857142857142\n",
      "\t 0.14285714285714285\n",
      "\n",
      "\n",
      "\t Decyzje:\n",
      "\t 71\n",
      "\t {\"Don'tPlay\": 1, 'Play': 0}\n",
      "\t [1.0, 0.0]\n",
      "\t -0.0 * 0.07142857142857142\n",
      "\t 0.14285714285714285\n",
      "\n",
      "\n",
      "A3\n",
      "{'85': 1, '90': 2, '78': 1, '96': 1, '80': 3, '70': 3, '65': 1, '95': 1, '75': 1}\n",
      "14\n",
      "\n",
      "\n",
      "\t Decyzje:\n",
      "\t 85\n",
      "\t {\"Don'tPlay\": 1, 'Play': 0}\n",
      "\t [1.0, 0.0]\n",
      "\t -0.0 * 0.07142857142857142\n",
      "\t 0.0\n",
      "\n",
      "\n",
      "\t Decyzje:\n",
      "\t 90\n",
      "\t {\"Don'tPlay\": 1, 'Play': 1}\n",
      "\t [0.5, 0.5]\n",
      "\t 1.0 * 0.14285714285714285\n",
      "\t 0.14285714285714285\n",
      "\n",
      "\n",
      "\t Decyzje:\n",
      "\t 78\n",
      "\t {\"Don'tPlay\": 0, 'Play': 1}\n",
      "\t [0.0, 1.0]\n",
      "\t -0.0 * 0.07142857142857142\n",
      "\t 0.14285714285714285\n",
      "\n",
      "\n",
      "\t Decyzje:\n",
      "\t 96\n",
      "\t {\"Don'tPlay\": 0, 'Play': 1}\n",
      "\t [0.0, 1.0]\n",
      "\t -0.0 * 0.07142857142857142\n",
      "\t 0.14285714285714285\n",
      "\n",
      "\n",
      "\t Decyzje:\n",
      "\t 80\n",
      "\t {\"Don'tPlay\": 1, 'Play': 2}\n",
      "\t [0.3333333333333333, 0.6666666666666666]\n",
      "\t 0.9182958340544896 * 0.21428571428571427\n",
      "\t 0.3396348215831049\n",
      "\n",
      "\n",
      "\t Decyzje:\n",
      "\t 70\n",
      "\t {\"Don'tPlay\": 1, 'Play': 2}\n",
      "\t [0.3333333333333333, 0.6666666666666666]\n",
      "\t 0.9182958340544896 * 0.21428571428571427\n",
      "\t 0.536412500309067\n",
      "\n",
      "\n",
      "\t Decyzje:\n",
      "\t 65\n",
      "\t {\"Don'tPlay\": 0, 'Play': 1}\n",
      "\t [0.0, 1.0]\n",
      "\t -0.0 * 0.07142857142857142\n",
      "\t 0.536412500309067\n",
      "\n",
      "\n",
      "\t Decyzje:\n",
      "\t 95\n",
      "\t {\"Don'tPlay\": 1, 'Play': 0}\n",
      "\t [1.0, 0.0]\n",
      "\t -0.0 * 0.07142857142857142\n",
      "\t 0.536412500309067\n",
      "\n",
      "\n",
      "\t Decyzje:\n",
      "\t 75\n",
      "\t {\"Don'tPlay\": 0, 'Play': 1}\n",
      "\t [0.0, 1.0]\n",
      "\t -0.0 * 0.07142857142857142\n",
      "\t 0.536412500309067\n",
      "\n",
      "\n",
      "A4\n",
      "{'false': 8, 'true': 6}\n",
      "14\n",
      "\n",
      "\n",
      "\t Decyzje:\n",
      "\t false\n",
      "\t {\"Don'tPlay\": 2, 'Play': 6}\n",
      "\t [0.25, 0.75]\n",
      "\t 0.8112781244591328 * 0.5714285714285714\n",
      "\t 0.46358749969093305\n",
      "\n",
      "\n",
      "\t Decyzje:\n",
      "\t true\n",
      "\t {\"Don'tPlay\": 3, 'Play': 3}\n",
      "\t [0.5, 0.5]\n",
      "\t 1.0 * 0.42857142857142855\n",
      "\t 0.8921589282623617\n"
     ]
    }
   ],
   "source": [
    "print(\"=====\")\n",
    "print(podsumowanieDecyzji)\n",
    "print(zbior)\n",
    "print(\"Entropia:\",I(zbior)) # etropia dla całego zbioru\n",
    "print(\"=====\")\n",
    "\n",
    "for nr in range(liczbaAtrybutów):  \n",
    "    Informacje(nr)"
   ]
  },
  {
   "cell_type": "code",
   "execution_count": 23,
   "metadata": {},
   "outputs": [
    {
     "name": "stdout",
     "output_type": "stream",
     "text": [
      "\n",
      "\n",
      "Info(A1,T)= 0.6935361388961918   \t Gain(A1,T)= 0.24674981977443933\n",
      "Info(A2,T)= 0.14285714285714285   \t Gain(A2,T)= 0.7974288158134883\n",
      "Info(A3,T)= 0.536412500309067   \t Gain(A3,T)= 0.4038734583615642\n",
      "Info(A4,T)= 0.8921589282623617   \t Gain(A4,T)= 0.04812703040826949\n",
      "\n",
      "Wybrany atrybut A2, bo w tym przypadku najwyższa jest wartość Gain: 0.7974288158134883\n",
      "\n",
      "\n",
      "Split(D1,T)= 1.5774062828523454   \t Gain Ratio(D1,T)= 0.15642756242117528\n",
      "Split(D2,T)= 3.521640636343319   \t Gain Ratio(D2,T)= 0.2264367373502071\n",
      "Split(D3,T)= 2.9852281360342516   \t Gain Ratio(D3,T)= 0.13529065115207337\n",
      "Split(D4,T)= 0.9852281360342516   \t Gain Ratio(D4,T)= 0.04884861551152082\n"
     ]
    }
   ],
   "source": [
    "print(\"\\n\")\n",
    "for nr in range(liczbaAtrybutów):\n",
    "    print(f\"Info({labels[nr]},T)= {Info[nr]}   \\t Gain({labels[nr]},T)= {Gain[nr]}\")\n",
    "\n",
    "#wyznacza max Gain\n",
    "for a in Gain:\n",
    "    if Gain[a]==max(Gain.values()):\n",
    "        maxA=a\n",
    "\n",
    "print(f\"\\nWybrany atrybut {labels[maxA]}, bo w tym przypadku najwyższa jest wartość Gain: {max(Gain.values())}\")\n",
    "\n",
    "print(\"\\n\")\n",
    "for nr in range(liczbaAtrybutów): \n",
    "    print(f\"Split(D{str(nr+1)},T)= {Split[nr]}   \\t Gain Ratio(D{str(nr+1)},T)= {GainRatio[nr]}\")"
   ]
  },
  {
   "cell_type": "code",
   "execution_count": 24,
   "metadata": {},
   "outputs": [
    {
     "data": {
      "text/plain": [
       "[0, 1, 2, 3]"
      ]
     },
     "execution_count": 24,
     "metadata": {},
     "output_type": "execute_result"
    }
   ],
   "source": [
    "listaNumerow = [nr for nr in range(len(lista[0])-1)]\n",
    "listaNumerow"
   ]
  },
  {
   "cell_type": "code",
   "execution_count": 25,
   "metadata": {},
   "outputs": [],
   "source": [
    "def maxAtryb(lista):\n",
    "    #maxA=0\n",
    "    g = [Gain[a] for a in lista]\n",
    "    maxGain=max(g)\n",
    "\n",
    "    for ga in Gain:\n",
    "        if Gain[ga]==max(Gain.values()):\n",
    "            maxAtrybut=ga\n",
    "    return maxAtrybut\n",
    "\n",
    "        \n",
    "# def nowaLista(dane, nrWiersza):\n",
    "#     nowaLista(dane, atryb, w):\n",
    "#     nowaL = []\n",
    "#     nowaL.append(dane[nrWiersza])\n",
    "#     return nowaL\n",
    "\n",
    "def nowaLista(dane, atryb, value):\n",
    "    newSet = []\n",
    "    for wiersz in dane:\n",
    "        if wiersz[atryb] == value:\n",
    "            newSetSample = wiersz[:atryb]        #making copy\n",
    "            newSetSample.extend(wiersz[atryb:])#extends the list by adding all items of a list\n",
    "            newSet.append(newSetSample)     #add to new Set\n",
    "    return newSet\n",
    "\n",
    "def class_counts(rows):\n",
    "    counts = {}\n",
    "    for row in rows:\n",
    "        if row not in counts.keys():\n",
    "            counts[row] = 0\n",
    "        counts[row] += 1\n",
    "    return max(counts)"
   ]
  },
  {
   "cell_type": "code",
   "execution_count": 34,
   "metadata": {},
   "outputs": [
    {
     "name": "stdout",
     "output_type": "stream",
     "text": [
      "\n",
      "Drzwo decyzyjne dla 14 przypadków (4 atrybutów)\n",
      "\n",
      "Najlepszy atrybut:  A2\n",
      "{'A2': {}}\n"
     ]
    },
    {
     "ename": "IndexError",
     "evalue": "list assignment index out of range",
     "output_type": "error",
     "traceback": [
      "\u001b[1;31m---------------------------------------------------------------------------\u001b[0m",
      "\u001b[1;31mIndexError\u001b[0m                                Traceback (most recent call last)",
      "\u001b[1;32m<ipython-input-34-60c0376bd1c6>\u001b[0m in \u001b[0;36m<module>\u001b[1;34m\u001b[0m\n\u001b[0;32m     67\u001b[0m     \u001b[0mszukaj\u001b[0m\u001b[1;33m(\u001b[0m\u001b[0mmaxA\u001b[0m\u001b[1;33m,\u001b[0m\u001b[0mlista\u001b[0m\u001b[1;33m)\u001b[0m\u001b[1;33m\u001b[0m\u001b[1;33m\u001b[0m\u001b[0m\n\u001b[0;32m     68\u001b[0m \u001b[1;33m\u001b[0m\u001b[0m\n\u001b[1;32m---> 69\u001b[1;33m \u001b[0mbudujDrzewo\u001b[0m\u001b[1;33m(\u001b[0m\u001b[1;33m)\u001b[0m\u001b[1;33m\u001b[0m\u001b[1;33m\u001b[0m\u001b[0m\n\u001b[0m\u001b[0;32m     70\u001b[0m \u001b[0mprint\u001b[0m\u001b[1;33m(\u001b[0m\u001b[0mjson\u001b[0m\u001b[1;33m.\u001b[0m\u001b[0mdumps\u001b[0m\u001b[1;33m(\u001b[0m\u001b[0mdrzewo\u001b[0m\u001b[1;33m,\u001b[0m \u001b[0mindent\u001b[0m\u001b[1;33m=\u001b[0m\u001b[1;36m4\u001b[0m\u001b[1;33m,\u001b[0m \u001b[0msort_keys\u001b[0m\u001b[1;33m=\u001b[0m\u001b[1;32mTrue\u001b[0m\u001b[1;33m)\u001b[0m\u001b[1;33m)\u001b[0m\u001b[1;33m\u001b[0m\u001b[1;33m\u001b[0m\u001b[0m\n",
      "\u001b[1;32m<ipython-input-34-60c0376bd1c6>\u001b[0m in \u001b[0;36mbudujDrzewo\u001b[1;34m()\u001b[0m\n\u001b[0;32m     65\u001b[0m \u001b[1;32mdef\u001b[0m \u001b[0mbudujDrzewo\u001b[0m\u001b[1;33m(\u001b[0m\u001b[1;33m)\u001b[0m\u001b[1;33m:\u001b[0m\u001b[1;33m\u001b[0m\u001b[1;33m\u001b[0m\u001b[0m\n\u001b[0;32m     66\u001b[0m     \u001b[0mprint\u001b[0m\u001b[1;33m(\u001b[0m\u001b[1;34m\"\\nDrzwo decyzyjne dla {0} przypadków ({1} atrybutów)\"\u001b[0m\u001b[1;33m.\u001b[0m\u001b[0mformat\u001b[0m\u001b[1;33m(\u001b[0m\u001b[0mliczbaWierszy\u001b[0m\u001b[1;33m,\u001b[0m\u001b[0mliczbaAtrybutów\u001b[0m\u001b[1;33m)\u001b[0m\u001b[1;33m)\u001b[0m\u001b[1;33m\u001b[0m\u001b[1;33m\u001b[0m\u001b[0m\n\u001b[1;32m---> 67\u001b[1;33m     \u001b[0mszukaj\u001b[0m\u001b[1;33m(\u001b[0m\u001b[0mmaxA\u001b[0m\u001b[1;33m,\u001b[0m\u001b[0mlista\u001b[0m\u001b[1;33m)\u001b[0m\u001b[1;33m\u001b[0m\u001b[1;33m\u001b[0m\u001b[0m\n\u001b[0m\u001b[0;32m     68\u001b[0m \u001b[1;33m\u001b[0m\u001b[0m\n\u001b[0;32m     69\u001b[0m \u001b[0mbudujDrzewo\u001b[0m\u001b[1;33m(\u001b[0m\u001b[1;33m)\u001b[0m\u001b[1;33m\u001b[0m\u001b[1;33m\u001b[0m\u001b[0m\n",
      "\u001b[1;32m<ipython-input-34-60c0376bd1c6>\u001b[0m in \u001b[0;36mszukaj\u001b[1;34m(atryb, dane)\u001b[0m\n\u001b[0;32m     41\u001b[0m     \u001b[0mprint\u001b[0m\u001b[1;33m(\u001b[0m\u001b[0mdrzewo\u001b[0m\u001b[1;33m)\u001b[0m\u001b[1;33m\u001b[0m\u001b[1;33m\u001b[0m\u001b[0m\n\u001b[0;32m     42\u001b[0m \u001b[1;33m\u001b[0m\u001b[0m\n\u001b[1;32m---> 43\u001b[1;33m     \u001b[1;32mdel\u001b[0m\u001b[1;33m(\u001b[0m\u001b[0mlistaNumerow\u001b[0m\u001b[1;33m[\u001b[0m\u001b[0matryb\u001b[0m\u001b[1;33m]\u001b[0m\u001b[1;33m)\u001b[0m\u001b[1;33m\u001b[0m\u001b[1;33m\u001b[0m\u001b[0m\n\u001b[0m\u001b[0;32m     44\u001b[0m \u001b[1;33m\u001b[0m\u001b[0m\n\u001b[0;32m     45\u001b[0m     \u001b[0munik\u001b[0m \u001b[1;33m=\u001b[0m \u001b[0munikalneWartosciWKolumnie\u001b[0m\u001b[1;33m(\u001b[0m\u001b[0matryb\u001b[0m\u001b[1;33m,\u001b[0m\u001b[0mdane\u001b[0m\u001b[1;33m)\u001b[0m\u001b[1;33m\u001b[0m\u001b[1;33m\u001b[0m\u001b[0m\n",
      "\u001b[1;31mIndexError\u001b[0m: list assignment index out of range"
     ]
    }
   ],
   "source": [
    "import json\n",
    "drzewo = {}\n",
    "\n",
    "# atryb, dane\n",
    "def szukaj(atryb, dane):\n",
    "    print(\"\\nNajlepszy atrybut: \", labels[atryb])\n",
    "    tab=\"\\t\"*atryb\n",
    "    \n",
    "#     k = [wiersz[atryb] for wiersz in dane] \n",
    "#     #print(k)\n",
    "#     #drzewo[atryb] = wartosciDecyzji(k)\n",
    "#     #print(wartosciDecyzji(k))\n",
    "#     for nrWiersza,a in enumerate(wartosciDecyzji(k)):\n",
    "#         print(f\"{tab}{labels[atryb]} = {a}\")\n",
    "#         for w in wartosciDecyzji(k)[a]:\n",
    "#             if wartosciDecyzji(k)[a][w] != 0:\n",
    "\n",
    "#                 #nowaLista(dane, nrWiersza)\n",
    "#                 #nowaLista.append(dane[nrWiersza])\n",
    "#                 print(\"działam\")\n",
    "#             elif wartosciDecyzji(k)[a][w] == 0:\n",
    "#                 print(f\"\\t{tab}: {w}\")\n",
    "# #                 print(nrWiersza)\n",
    "#                 del dane[nrWiersza]\n",
    "#             #print(dane)\n",
    "#             noweA = maxAtryb(atryb)\n",
    "#             if noweA == None:\n",
    "#                 continue\n",
    "#             szukaj(noweA,dane)\n",
    "    d = decyzjeKolumna(dane)\n",
    "\n",
    "    #wyswietla decyzje, koniec podziału\n",
    "    if d.count(d[0]) == len(d):\n",
    "        print(d[0])\n",
    "        \n",
    "    if len(dane[0]) == 1:\n",
    "        return class_counts(d)\n",
    "        \n",
    "    atrybut = labels[atryb]\n",
    "    drzewo = { atrybut: {} }\n",
    "    print(drzewo) \n",
    "\n",
    "    del(listaNumerow[atryb])\n",
    "  \n",
    "    unik = unikalneWartosciWKolumnie(atryb,dane)\n",
    "    print(unik)\n",
    "    for w in unik:\n",
    "        print(w)\n",
    "        listaA=listaNumerow[:] #kopia listy  numerów  \n",
    "        noweA = maxAtryb(listaA) #szuka max w podaje liscie\n",
    "        print(nowaLista(dane, atryb, w))\n",
    "        drzewo[atrybut][w] = szukaj(noweA, nowaLista(dane, atryb, w))\n",
    "    #print(nowaLista(dane, atryb, w))\n",
    "        \n",
    "    return drzewo\n",
    "    \n",
    "    \n",
    "    #for wart in unikalneWartosciWKolumnie(atryb,lista):\n",
    "        \n",
    "        #print(f\"{tab}{labels[atryb]} = {wart}\")\n",
    "             # ,unikalne[atryb][w],\":\", [a for a in C[w] if C[w][a]!=0]) \n",
    "  \n",
    "                        \n",
    "    \n",
    "def budujDrzewo():\n",
    "    print(\"\\nDrzwo decyzyjne dla {0} przypadków ({1} atrybutów)\".format(liczbaWierszy,liczbaAtrybutów))\n",
    "    szukaj(maxA,lista) \n",
    "    \n",
    "budujDrzewo()\n",
    "print(json.dumps(drzewo, indent=4, sort_keys=True))"
   ]
  },
  {
   "cell_type": "code",
   "execution_count": 27,
   "metadata": {},
   "outputs": [
    {
     "data": {
      "text/plain": [
       "{0: 0.24674981977443933,\n",
       " 1: 0.7974288158134883,\n",
       " 2: 0.4038734583615642,\n",
       " 3: 0.04812703040826949}"
      ]
     },
     "execution_count": 27,
     "metadata": {},
     "output_type": "execute_result"
    }
   ],
   "source": [
    "Gain\n"
   ]
  },
  {
   "cell_type": "code",
   "execution_count": null,
   "metadata": {},
   "outputs": [],
   "source": []
  }
 ],
 "metadata": {
  "kernelspec": {
   "display_name": "Python 3",
   "language": "python",
   "name": "python3"
  },
  "language_info": {
   "codemirror_mode": {
    "name": "ipython",
    "version": 3
   },
   "file_extension": ".py",
   "mimetype": "text/x-python",
   "name": "python",
   "nbconvert_exporter": "python",
   "pygments_lexer": "ipython3",
   "version": "3.7.1"
  }
 },
 "nbformat": 4,
 "nbformat_minor": 2
}
