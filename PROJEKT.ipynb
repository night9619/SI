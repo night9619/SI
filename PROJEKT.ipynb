{
 "cells": [
  {
   "cell_type": "code",
   "execution_count": 325,
   "metadata": {},
   "outputs": [],
   "source": [
    "from math import log2\n",
    "\n",
    "#wczytanie danych\n",
    "with open('cw 1/test2.txt', 'r') as f:\n",
    "    element = [line.strip() for line in f]\n",
    "\n",
    "lista = [el.split(',') for el in element]"
   ]
  },
  {
   "cell_type": "code",
   "execution_count": 326,
   "metadata": {},
   "outputs": [
    {
     "data": {
      "text/plain": [
       "[['0', '0', '0', '0', '1'],\n",
       " ['0', '1', '0', '2', '1'],\n",
       " ['1', '0', '1', '2', '1'],\n",
       " ['1', '0', '1', '1', '1'],\n",
       " ['1', '0', '0', '2', '1'],\n",
       " ['0', '1', '0', '0', '0'],\n",
       " ['1', '1', '0', '0', '0'],\n",
       " ['0', '0', '1', '1', '0'],\n",
       " ['1', '1', '1', '0', '0'],\n",
       " ['1', '0', '1', '0', '0']]"
      ]
     },
     "execution_count": 326,
     "metadata": {},
     "output_type": "execute_result"
    }
   ],
   "source": [
    "lista"
   ]
  },
  {
   "cell_type": "code",
   "execution_count": 327,
   "metadata": {},
   "outputs": [
    {
     "data": {
      "text/plain": [
       "4"
      ]
     },
     "execution_count": 327,
     "metadata": {},
     "output_type": "execute_result"
    }
   ],
   "source": [
    "liczbaAtrybutów = len(lista[0])-1\n",
    "liczbaAtrybutów"
   ]
  },
  {
   "cell_type": "code",
   "execution_count": 328,
   "metadata": {},
   "outputs": [
    {
     "data": {
      "text/plain": [
       "['A1', 'A2', 'A3', 'A4']"
      ]
     },
     "execution_count": 328,
     "metadata": {},
     "output_type": "execute_result"
    }
   ],
   "source": [
    "#lista atrybutów (można ew jak wczytac z pliku)\n",
    "labels = [\"A\"+str(nr+1) for nr in range(len(lista[0])-1)]\n",
    "labels"
   ]
  },
  {
   "cell_type": "code",
   "execution_count": 329,
   "metadata": {},
   "outputs": [
    {
     "data": {
      "text/plain": [
       "10"
      ]
     },
     "execution_count": 329,
     "metadata": {},
     "output_type": "execute_result"
    }
   ],
   "source": [
    "liczbaWierszy = len(lista)\n",
    "liczbaWierszy"
   ]
  },
  {
   "cell_type": "code",
   "execution_count": 330,
   "metadata": {},
   "outputs": [
    {
     "data": {
      "text/plain": [
       "['1', '1', '1', '1', '1', '0', '0', '0', '0', '0']"
      ]
     },
     "execution_count": 330,
     "metadata": {},
     "output_type": "execute_result"
    }
   ],
   "source": [
    "#ostatnia kolumna - decyzje\n",
    "decyzje = [wiersz[liczbaAtrybutów] for wiersz in lista]\n",
    "decyzje"
   ]
  },
  {
   "cell_type": "code",
   "execution_count": 331,
   "metadata": {},
   "outputs": [],
   "source": [
    "def decyzjeKolumna(dane):\n",
    "    return [kol[-1] for kol in dane]"
   ]
  },
  {
   "cell_type": "code",
   "execution_count": 332,
   "metadata": {},
   "outputs": [
    {
     "data": {
      "text/plain": [
       "['1', '1', '1', '1', '1', '0', '0', '0', '0', '0']"
      ]
     },
     "execution_count": 332,
     "metadata": {},
     "output_type": "execute_result"
    }
   ],
   "source": [
    "decyzjeKolumna(lista)"
   ]
  },
  {
   "cell_type": "code",
   "execution_count": 333,
   "metadata": {},
   "outputs": [],
   "source": [
    "#dla każdej unikalnej wartosci w kolumnie zliczam wystąpienia\n",
    "def licznikUnikalnychWartosci(nrKolumny,dane):\n",
    "    unikalne = {}\n",
    "    for wiersz in dane:\n",
    "        wartosc = wiersz[nrKolumny]\n",
    "        if wartosc not in unikalne:\n",
    "            unikalne[wartosc] = 0\n",
    "        unikalne[wartosc] +=1\n",
    "    \n",
    "    return unikalne"
   ]
  },
  {
   "cell_type": "code",
   "execution_count": 334,
   "metadata": {},
   "outputs": [
    {
     "name": "stdout",
     "output_type": "stream",
     "text": [
      "{'0': 4, '1': 6}\n",
      "{'0': 6, '1': 4}\n",
      "{'0': 5, '1': 5}\n",
      "{'0': 5, '2': 3, '1': 2}\n"
     ]
    }
   ],
   "source": [
    "for nrK in range(liczbaAtrybutów):\n",
    "    print(licznikUnikalnychWartosci(nrK,lista))"
   ]
  },
  {
   "cell_type": "code",
   "execution_count": 335,
   "metadata": {},
   "outputs": [],
   "source": [
    "#ile jest unikalnych wartosci w kolumnie\n",
    "def ileWartWKolumnie(nrKolumny):\n",
    "    klucze = list(licznikUnikalnychWartosci(nrKolumny,lista).keys())\n",
    "    licznik = len(klucze)\n",
    "    \n",
    "    return licznik"
   ]
  },
  {
   "cell_type": "code",
   "execution_count": 336,
   "metadata": {},
   "outputs": [
    {
     "name": "stdout",
     "output_type": "stream",
     "text": [
      "{0: 2}\n",
      "{1: 2}\n",
      "{2: 2}\n",
      "{3: 3}\n"
     ]
    }
   ],
   "source": [
    "for nrK in range(liczbaAtrybutów):\n",
    "    s1 ={}\n",
    "    s1[nrK] = ileWartWKolumnie(nrK)\n",
    "    print(s1)"
   ]
  },
  {
   "cell_type": "code",
   "execution_count": 337,
   "metadata": {},
   "outputs": [],
   "source": [
    "#jakie sa unikalne wartosci w kolumnie\n",
    "def unikalneWartosciWKolumnie(nrKolumny,dane):\n",
    "    kolumna = [wiersz[nrKolumny] for wiersz in dane]\n",
    "    unikalne = set([wartosc for wartosc in kolumna])\n",
    "    return list(unikalne)"
   ]
  },
  {
   "cell_type": "code",
   "execution_count": 338,
   "metadata": {},
   "outputs": [
    {
     "name": "stdout",
     "output_type": "stream",
     "text": [
      "['1', '0']\n",
      "['1', '0']\n",
      "['1', '0']\n",
      "['1', '2', '0']\n"
     ]
    }
   ],
   "source": [
    "for nrK in range(liczbaAtrybutów):\n",
    "    print(unikalneWartosciWKolumnie(nrK,lista))"
   ]
  },
  {
   "cell_type": "code",
   "execution_count": 339,
   "metadata": {},
   "outputs": [],
   "source": [
    "# tworzy słownik z unikalnymi wartosciami i padajacymi po nich decyzjami\n",
    "def wartosciDecyzji(k):   # k to kolumna\n",
    "    dlaKolumny = {}\n",
    "    for ipk,pk in enumerate(k):\n",
    "        tab = [decyzje[iel] for iel,el in enumerate(k) if el==pk ] #jakie sa decyzje dla wartosci\n",
    "        #print(tab)\n",
    "        dlaKolumny[pk] = {wart : tab.count(wart) for wart in decyzje}\n",
    "    return dlaKolumny"
   ]
  },
  {
   "cell_type": "code",
   "execution_count": 340,
   "metadata": {},
   "outputs": [
    {
     "data": {
      "text/plain": [
       "['0', '1', '0', '0', '0', '1', '1', '0', '1', '0']"
      ]
     },
     "execution_count": 340,
     "metadata": {},
     "output_type": "execute_result"
    }
   ],
   "source": [
    "k = [wiersz[1] for wiersz in lista]\n",
    "k"
   ]
  },
  {
   "cell_type": "code",
   "execution_count": 341,
   "metadata": {},
   "outputs": [
    {
     "data": {
      "text/plain": [
       "{'0': {'1': 4, '0': 2}, '1': {'1': 1, '0': 3}}"
      ]
     },
     "execution_count": 341,
     "metadata": {},
     "output_type": "execute_result"
    }
   ],
   "source": [
    "wartosciDecyzji(k)"
   ]
  },
  {
   "cell_type": "code",
   "execution_count": 342,
   "metadata": {},
   "outputs": [],
   "source": [
    "Info = {}\n",
    "Gain = {}\n",
    "Split = {}\n",
    "GainRatio = {}\n",
    "\n",
    "maxA=0\n",
    "T= liczbaWierszy"
   ]
  },
  {
   "cell_type": "markdown",
   "metadata": {},
   "source": [
    "Entropia"
   ]
  },
  {
   "cell_type": "code",
   "execution_count": 343,
   "metadata": {},
   "outputs": [],
   "source": [
    "#entropia\n",
    "def I(P):\n",
    "    wynik = (-1)*sum([p*log2(p) for p in P if p!=0])\n",
    "    return wynik"
   ]
  },
  {
   "cell_type": "code",
   "execution_count": 344,
   "metadata": {},
   "outputs": [
    {
     "name": "stdout",
     "output_type": "stream",
     "text": [
      "{'1': 5, '0': 5}\n",
      "[0.5, 0.5]\n"
     ]
    }
   ],
   "source": [
    "podsumowanieDecyzji = licznikUnikalnychWartosci(liczbaAtrybutów,lista) # unikalne decyzje+licznik\n",
    "print(podsumowanieDecyzji)\n",
    "zbior = [podsumowanieDecyzji[a]/len(decyzje) for a in podsumowanieDecyzji] #prawdopodobieństo dla całego zbioru\n",
    "print(zbior)"
   ]
  },
  {
   "cell_type": "code",
   "execution_count": 345,
   "metadata": {},
   "outputs": [],
   "source": [
    "def Informacje(numer):\n",
    "    info=0\n",
    "    split=0\n",
    "    print(\"\\n\")\n",
    "    print(labels[numer]) #atrybut\n",
    "    print(licznikUnikalnychWartosci(numer,lista)) \n",
    "    print(liczbaWierszy)\n",
    "   \n",
    "    #for w in range(len(licznikUnikalnychWartosci(numer))):\n",
    "    k = [wiersz[numer] for wiersz in lista] #cala kolumna\n",
    "    for wart in list(licznikUnikalnychWartosci(numer,lista).keys()):\n",
    "        licznikDecyzji = wartosciDecyzji(k)        \n",
    "        print(\"\\n\")\n",
    "        print(\"\\t\",'Decyzje:')\n",
    "        print(\"\\t\",wart)\n",
    "        print(\"\\t\",licznikDecyzji[wart]) \n",
    "        liczebnosc = [licznikDecyzji[wart][a] for a in licznikDecyzji[wart]]\n",
    "        Ti = sum(liczebnosc)\n",
    "        PP = [licznikDecyzji[wart][a]/Ti if Ti!=0 else \"0\" for a in licznikDecyzji[wart]]\n",
    "        print(\"\\t\",PP)\n",
    "        print(\"\\t\",I(PP),'*', Ti/T)\n",
    "        \n",
    "        info += I(PP) * (Ti/T)\n",
    "        split += ((-1)*(Ti/T)* log2(Ti/T))\n",
    "\n",
    "        print(\"\\t\", info)\n",
    "        \n",
    "    gain = I(zbior)-info\n",
    "    if split > 0:\n",
    "        gainRatio = gain/split\n",
    "    \n",
    "    Info[numer] = info\n",
    "    Gain[numer] = gain\n",
    "    Split[numer] = split\n",
    "    GainRatio[numer] = gainRatio"
   ]
  },
  {
   "cell_type": "code",
   "execution_count": 346,
   "metadata": {},
   "outputs": [
    {
     "name": "stdout",
     "output_type": "stream",
     "text": [
      "=====\n",
      "{'1': 5, '0': 5}\n",
      "[0.5, 0.5]\n",
      "Entropia: 1.0\n",
      "=====\n",
      "\n",
      "\n",
      "A1\n",
      "{'0': 4, '1': 6}\n",
      "10\n",
      "\n",
      "\n",
      "\t Decyzje:\n",
      "\t 0\n",
      "\t {'1': 2, '0': 2}\n",
      "\t [0.5, 0.5]\n",
      "\t 1.0 * 0.4\n",
      "\t 0.4\n",
      "\n",
      "\n",
      "\t Decyzje:\n",
      "\t 1\n",
      "\t {'1': 3, '0': 3}\n",
      "\t [0.5, 0.5]\n",
      "\t 1.0 * 0.6\n",
      "\t 1.0\n",
      "\n",
      "\n",
      "A2\n",
      "{'0': 6, '1': 4}\n",
      "10\n",
      "\n",
      "\n",
      "\t Decyzje:\n",
      "\t 0\n",
      "\t {'1': 4, '0': 2}\n",
      "\t [0.6666666666666666, 0.3333333333333333]\n",
      "\t 0.9182958340544896 * 0.6\n",
      "\t 0.5509775004326937\n",
      "\n",
      "\n",
      "\t Decyzje:\n",
      "\t 1\n",
      "\t {'1': 1, '0': 3}\n",
      "\t [0.25, 0.75]\n",
      "\t 0.8112781244591328 * 0.4\n",
      "\t 0.8754887502163469\n",
      "\n",
      "\n",
      "A3\n",
      "{'0': 5, '1': 5}\n",
      "10\n",
      "\n",
      "\n",
      "\t Decyzje:\n",
      "\t 0\n",
      "\t {'1': 3, '0': 2}\n",
      "\t [0.6, 0.4]\n",
      "\t 0.9709505944546686 * 0.5\n",
      "\t 0.4854752972273343\n",
      "\n",
      "\n",
      "\t Decyzje:\n",
      "\t 1\n",
      "\t {'1': 2, '0': 3}\n",
      "\t [0.4, 0.6]\n",
      "\t 0.9709505944546686 * 0.5\n",
      "\t 0.9709505944546686\n",
      "\n",
      "\n",
      "A4\n",
      "{'0': 5, '2': 3, '1': 2}\n",
      "10\n",
      "\n",
      "\n",
      "\t Decyzje:\n",
      "\t 0\n",
      "\t {'1': 1, '0': 4}\n",
      "\t [0.2, 0.8]\n",
      "\t 0.7219280948873623 * 0.5\n",
      "\t 0.36096404744368116\n",
      "\n",
      "\n",
      "\t Decyzje:\n",
      "\t 2\n",
      "\t {'1': 3, '0': 0}\n",
      "\t [1.0, 0.0]\n",
      "\t -0.0 * 0.3\n",
      "\t 0.36096404744368116\n",
      "\n",
      "\n",
      "\t Decyzje:\n",
      "\t 1\n",
      "\t {'1': 1, '0': 1}\n",
      "\t [0.5, 0.5]\n",
      "\t 1.0 * 0.2\n",
      "\t 0.5609640474436812\n"
     ]
    }
   ],
   "source": [
    "print(\"=====\")\n",
    "print(podsumowanieDecyzji)\n",
    "print(zbior)\n",
    "print(\"Entropia:\",I(zbior)) # etropia dla całego zbioru\n",
    "print(\"=====\")\n",
    "\n",
    "for nr in range(liczbaAtrybutów):  \n",
    "    Informacje(nr)"
   ]
  },
  {
   "cell_type": "code",
   "execution_count": 347,
   "metadata": {},
   "outputs": [
    {
     "name": "stdout",
     "output_type": "stream",
     "text": [
      "\n",
      "\n",
      "Info(A1,T)= 1.0   \t Gain(A1,T)= 0.0\n",
      "Info(A2,T)= 0.8754887502163469   \t Gain(A2,T)= 0.12451124978365313\n",
      "Info(A3,T)= 0.9709505944546686   \t Gain(A3,T)= 0.02904940554533142\n",
      "Info(A4,T)= 0.5609640474436812   \t Gain(A4,T)= 0.4390359525563188\n",
      "\n",
      "Wybrany atrybut A4, bo w tym przypadku najwyższa jest wartość Gain: 0.4390359525563188\n",
      "\n",
      "\n",
      "Split(D1,T)= 0.9709505944546686   \t Gain Ratio(D1,T)= 0.0\n",
      "Split(D2,T)= 0.9709505944546686   \t Gain Ratio(D2,T)= 0.12823644219877584\n",
      "Split(D3,T)= 1.0   \t Gain Ratio(D3,T)= 0.02904940554533142\n",
      "Split(D4,T)= 1.4854752972273344   \t Gain Ratio(D4,T)= 0.29555250994465343\n"
     ]
    }
   ],
   "source": [
    "print(\"\\n\")\n",
    "for nr in range(liczbaAtrybutów):\n",
    "    print(f\"Info({labels[nr]},T)= {Info[nr]}   \\t Gain({labels[nr]},T)= {Gain[nr]}\")\n",
    "\n",
    "#wyznacza max Gain\n",
    "for a in Gain:\n",
    "    if Gain[a]==max(Gain.values()):\n",
    "        maxA=a\n",
    "\n",
    "print(f\"\\nWybrany atrybut {labels[maxA]}, bo w tym przypadku najwyższa jest wartość Gain: {max(Gain.values())}\")\n",
    "\n",
    "print(\"\\n\")\n",
    "for nr in range(liczbaAtrybutów): \n",
    "    print(f\"Split(D{str(nr+1)},T)= {Split[nr]}   \\t Gain Ratio(D{str(nr+1)},T)= {GainRatio[nr]}\")"
   ]
  },
  {
   "cell_type": "code",
   "execution_count": 348,
   "metadata": {},
   "outputs": [
    {
     "data": {
      "text/plain": [
       "[0, 1, 2, 3]"
      ]
     },
     "execution_count": 348,
     "metadata": {},
     "output_type": "execute_result"
    }
   ],
   "source": [
    "listaNumerow = [nr for nr in range(len(lista[0])-1)]\n",
    "listaNumerow"
   ]
  },
  {
   "cell_type": "code",
   "execution_count": 349,
   "metadata": {},
   "outputs": [],
   "source": [
    "def maxAtryb(lista, atryb):\n",
    "    #maxA=0\n",
    "    if atryb in lista:  \n",
    "        del lista[atryb]\n",
    "    g = [Gain[a] for a in lista]\n",
    "    maxGain=max(g)\n",
    "\n",
    "    for ga in Gain:\n",
    "        if Gain[ga] == maxGain:\n",
    "            maxAtrybut=ga\n",
    "            \n",
    "    return maxAtrybut, lista\n",
    "\n",
    "        \n",
    "# def nowaLista(dane, nrWiersza):\n",
    "#     nowaLista(dane, atryb, w):\n",
    "#     nowaL = []\n",
    "#     nowaL.append(dane[nrWiersza])\n",
    "#     return nowaL\n",
    "\n",
    "def nowaLista(dane, atryb, value):\n",
    "    newSet = []\n",
    "    for wiersz in dane:\n",
    "        if wiersz[atryb] == value:\n",
    "            newSetSample = wiersz[:atryb]        #making copy\n",
    "            newSetSample.extend(wiersz[atryb:])#extends the list by adding all items of a list\n",
    "            newSet.append(newSetSample)     #add to new Set\n",
    "    return newSet\n",
    "\n",
    "def class_counts(rows):\n",
    "    counts = {}\n",
    "    for row in rows:\n",
    "        if row not in counts.keys():\n",
    "            counts[row] = 0\n",
    "        counts[row] += 1\n",
    "    return max(counts)"
   ]
  },
  {
   "cell_type": "code",
   "execution_count": 350,
   "metadata": {},
   "outputs": [
    {
     "name": "stdout",
     "output_type": "stream",
     "text": [
      "\n",
      "Drzwo decyzyjne dla 10 przypadków (4 atrybutów)\n",
      "{'A4': {}}\n"
     ]
    },
    {
     "ename": "TypeError",
     "evalue": "cannot unpack non-iterable NoneType object",
     "output_type": "error",
     "traceback": [
      "\u001b[1;31m---------------------------------------------------------------------------\u001b[0m",
      "\u001b[1;31mTypeError\u001b[0m                                 Traceback (most recent call last)",
      "\u001b[1;32m<ipython-input-350-040d2d4071ee>\u001b[0m in \u001b[0;36m<module>\u001b[1;34m\u001b[0m\n\u001b[0;32m     44\u001b[0m     \u001b[0mszukaj\u001b[0m\u001b[1;33m(\u001b[0m\u001b[0mlista\u001b[0m\u001b[1;33m,\u001b[0m \u001b[0mlistaNumerow\u001b[0m\u001b[1;33m,\u001b[0m \u001b[0mmaxA\u001b[0m\u001b[1;33m)\u001b[0m\u001b[1;33m\u001b[0m\u001b[1;33m\u001b[0m\u001b[0m\n\u001b[0;32m     45\u001b[0m \u001b[1;33m\u001b[0m\u001b[0m\n\u001b[1;32m---> 46\u001b[1;33m \u001b[0mkoniec\u001b[0m \u001b[1;33m=\u001b[0m \u001b[0mbudujDrzewo\u001b[0m\u001b[1;33m(\u001b[0m\u001b[1;33m)\u001b[0m\u001b[1;33m\u001b[0m\u001b[1;33m\u001b[0m\u001b[0m\n\u001b[0m\u001b[0;32m     47\u001b[0m \u001b[0mprint\u001b[0m\u001b[1;33m(\u001b[0m\u001b[0mjson\u001b[0m\u001b[1;33m.\u001b[0m\u001b[0mdumps\u001b[0m\u001b[1;33m(\u001b[0m\u001b[0mkoniec\u001b[0m\u001b[1;33m,\u001b[0m \u001b[0mindent\u001b[0m\u001b[1;33m=\u001b[0m\u001b[1;36m4\u001b[0m\u001b[1;33m,\u001b[0m \u001b[0msort_keys\u001b[0m\u001b[1;33m=\u001b[0m\u001b[1;32mTrue\u001b[0m\u001b[1;33m)\u001b[0m\u001b[1;33m)\u001b[0m\u001b[1;33m\u001b[0m\u001b[1;33m\u001b[0m\u001b[0m\n",
      "\u001b[1;32m<ipython-input-350-040d2d4071ee>\u001b[0m in \u001b[0;36mbudujDrzewo\u001b[1;34m()\u001b[0m\n\u001b[0;32m     42\u001b[0m \u001b[1;32mdef\u001b[0m \u001b[0mbudujDrzewo\u001b[0m\u001b[1;33m(\u001b[0m\u001b[1;33m)\u001b[0m\u001b[1;33m:\u001b[0m\u001b[1;33m\u001b[0m\u001b[1;33m\u001b[0m\u001b[0m\n\u001b[0;32m     43\u001b[0m     \u001b[0mprint\u001b[0m\u001b[1;33m(\u001b[0m\u001b[1;34m\"\\nDrzwo decyzyjne dla {0} przypadków ({1} atrybutów)\"\u001b[0m\u001b[1;33m.\u001b[0m\u001b[0mformat\u001b[0m\u001b[1;33m(\u001b[0m\u001b[0mliczbaWierszy\u001b[0m\u001b[1;33m,\u001b[0m\u001b[0mliczbaAtrybutów\u001b[0m\u001b[1;33m)\u001b[0m\u001b[1;33m)\u001b[0m\u001b[1;33m\u001b[0m\u001b[1;33m\u001b[0m\u001b[0m\n\u001b[1;32m---> 44\u001b[1;33m     \u001b[0mszukaj\u001b[0m\u001b[1;33m(\u001b[0m\u001b[0mlista\u001b[0m\u001b[1;33m,\u001b[0m \u001b[0mlistaNumerow\u001b[0m\u001b[1;33m,\u001b[0m \u001b[0mmaxA\u001b[0m\u001b[1;33m)\u001b[0m\u001b[1;33m\u001b[0m\u001b[1;33m\u001b[0m\u001b[0m\n\u001b[0m\u001b[0;32m     45\u001b[0m \u001b[1;33m\u001b[0m\u001b[0m\n\u001b[0;32m     46\u001b[0m \u001b[0mkoniec\u001b[0m \u001b[1;33m=\u001b[0m \u001b[0mbudujDrzewo\u001b[0m\u001b[1;33m(\u001b[0m\u001b[1;33m)\u001b[0m\u001b[1;33m\u001b[0m\u001b[1;33m\u001b[0m\u001b[0m\n",
      "\u001b[1;32m<ipython-input-350-040d2d4071ee>\u001b[0m in \u001b[0;36mszukaj\u001b[1;34m(dane, l, atryb)\u001b[0m\n\u001b[0;32m     23\u001b[0m     \u001b[1;32mfor\u001b[0m \u001b[0mw\u001b[0m \u001b[1;32min\u001b[0m \u001b[0munik\u001b[0m\u001b[1;33m:\u001b[0m\u001b[1;33m\u001b[0m\u001b[1;33m\u001b[0m\u001b[0m\n\u001b[0;32m     24\u001b[0m         \u001b[1;31m#listaA = l[:] #kopia listy  numerów\u001b[0m\u001b[1;33m\u001b[0m\u001b[1;33m\u001b[0m\u001b[1;33m\u001b[0m\u001b[0m\n\u001b[1;32m---> 25\u001b[1;33m         \u001b[0mnoweA\u001b[0m\u001b[1;33m,\u001b[0m \u001b[0mlistaA\u001b[0m \u001b[1;33m=\u001b[0m \u001b[0mmaxAtryb\u001b[0m\u001b[1;33m(\u001b[0m\u001b[0ml\u001b[0m\u001b[1;33m,\u001b[0m \u001b[0matryb\u001b[0m\u001b[1;33m)\u001b[0m \u001b[1;31m#szuka max w podaje liscie\u001b[0m\u001b[1;33m\u001b[0m\u001b[1;33m\u001b[0m\u001b[0m\n\u001b[0m\u001b[0;32m     26\u001b[0m         \u001b[0mdrzewo\u001b[0m\u001b[1;33m[\u001b[0m\u001b[0matrybut\u001b[0m\u001b[1;33m]\u001b[0m\u001b[1;33m[\u001b[0m\u001b[0mw\u001b[0m\u001b[1;33m]\u001b[0m \u001b[1;33m=\u001b[0m \u001b[0mszukaj\u001b[0m\u001b[1;33m(\u001b[0m\u001b[0mnowaLista\u001b[0m\u001b[1;33m(\u001b[0m\u001b[0mdane\u001b[0m\u001b[1;33m,\u001b[0m \u001b[0matryb\u001b[0m\u001b[1;33m,\u001b[0m \u001b[0mw\u001b[0m\u001b[1;33m)\u001b[0m\u001b[1;33m,\u001b[0m \u001b[0mlistaA\u001b[0m\u001b[1;33m,\u001b[0m \u001b[0mnoweA\u001b[0m\u001b[1;33m)\u001b[0m\u001b[1;33m\u001b[0m\u001b[1;33m\u001b[0m\u001b[0m\n\u001b[0;32m     27\u001b[0m         \u001b[0mprint\u001b[0m\u001b[1;33m(\u001b[0m\u001b[0mdrzewo\u001b[0m\u001b[1;33m)\u001b[0m\u001b[1;33m\u001b[0m\u001b[1;33m\u001b[0m\u001b[0m\n",
      "\u001b[1;31mTypeError\u001b[0m: cannot unpack non-iterable NoneType object"
     ]
    }
   ],
   "source": [
    "import json\n",
    "drzewo = {}\n",
    "\n",
    "def szukaj(dane, l, atryb):\n",
    "    #print(\"\\nNajlepszy atrybut: \", labels[atryb])\n",
    "    \n",
    "    d = decyzjeKolumna(dane)\n",
    "\n",
    "    #wyswietla decyzje, koniec podziału\n",
    "    if d.count(d[0]) == len(d):\n",
    "        print(d[0])\n",
    "        \n",
    "    if len(dane[0]) == 1:\n",
    "        return class_counts(d)\n",
    "    \n",
    "        \n",
    "    atrybut = labels[atryb]\n",
    "    drzewo = { atrybut: {} }\n",
    "#     del(l[atryb])\n",
    "    unik = unikalneWartosciWKolumnie(atryb,dane)\n",
    "\n",
    "    print(drzewo)\n",
    "    for w in unik:\n",
    "        #listaA = l[:] #kopia listy  numerów  \n",
    "        noweA, listaA = maxAtryb(l, atryb) #szuka max w podaje liscie\n",
    "        drzewo[atrybut][w] = szukaj(nowaLista(dane, atryb, w), listaA, noweA)\n",
    "        print(drzewo)\n",
    "\n",
    "        \n",
    "    \n",
    "        \n",
    "    return drzewo\n",
    "    \n",
    "    \n",
    "    #for wart in unikalneWartosciWKolumnie(atryb,lista):\n",
    "        \n",
    "        #print(f\"{tab}{labels[atryb]} = {wart}\")\n",
    "             # ,unikalne[atryb][w],\":\", [a for a in C[w] if C[w][a]!=0]) \n",
    "  \n",
    "                        \n",
    "    \n",
    "def budujDrzewo():\n",
    "    print(\"\\nDrzwo decyzyjne dla {0} przypadków ({1} atrybutów)\".format(liczbaWierszy,liczbaAtrybutów))\n",
    "    szukaj(lista, listaNumerow, maxA) \n",
    "    \n",
    "koniec = budujDrzewo()\n",
    "print(json.dumps(koniec, indent=4, sort_keys=True))"
   ]
  },
  {
   "cell_type": "code",
   "execution_count": null,
   "metadata": {},
   "outputs": [],
   "source": [
    "print(json.dumps(koniec, indent=4, sort_keys=True))"
   ]
  },
  {
   "cell_type": "code",
   "execution_count": null,
   "metadata": {},
   "outputs": [],
   "source": [
    "drzewo\n"
   ]
  },
  {
   "cell_type": "code",
   "execution_count": null,
   "metadata": {},
   "outputs": [],
   "source": [
    "#     k = [wiersz[atryb] for wiersz in dane] \n",
    "#     #print(k)\n",
    "#     #drzewo[atryb] = wartosciDecyzji(k)\n",
    "#     #print(wartosciDecyzji(k))\n",
    "#     for nrWiersza,a in enumerate(wartosciDecyzji(k)):\n",
    "#         print(f\"{tab}{labels[atryb]} = {a}\")\n",
    "#         for w in wartosciDecyzji(k)[a]:\n",
    "#             if wartosciDecyzji(k)[a][w] != 0:\n",
    "\n",
    "#                 #nowaLista(dane, nrWiersza)\n",
    "#                 #nowaLista.append(dane[nrWiersza])\n",
    "#                 print(\"działam\")\n",
    "#             elif wartosciDecyzji(k)[a][w] == 0:\n",
    "#                 print(f\"\\t{tab}: {w}\")\n",
    "# #                 print(nrWiersza)\n",
    "#                 del dane[nrWiersza]\n",
    "#             #print(dane)\n",
    "#             noweA = maxAtryb(atryb)\n",
    "#             if noweA == None:\n",
    "#                 continue\n",
    "#             szukaj(noweA,dane)\n",
    "\n",
    "#tab=\"\\t\"*atryb"
   ]
  }
 ],
 "metadata": {
  "kernelspec": {
   "display_name": "Python 3",
   "language": "python",
   "name": "python3"
  },
  "language_info": {
   "codemirror_mode": {
    "name": "ipython",
    "version": 3
   },
   "file_extension": ".py",
   "mimetype": "text/x-python",
   "name": "python",
   "nbconvert_exporter": "python",
   "pygments_lexer": "ipython3",
   "version": "3.7.1"
  }
 },
 "nbformat": 4,
 "nbformat_minor": 2
}
